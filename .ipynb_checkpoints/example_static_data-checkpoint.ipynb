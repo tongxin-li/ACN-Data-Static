{
 "cells": [
  {
   "cell_type": "code",
   "execution_count": 1,
   "metadata": {},
   "outputs": [],
   "source": [
    "import pandas as pd\n",
    "import json\n",
    "from datetime import datetime\n",
    "from datetime import time\n",
    "import matplotlib.pyplot as plt"
   ]
  },
  {
   "cell_type": "markdown",
   "metadata": {},
   "source": [
    "## Load Data"
   ]
  },
  {
   "cell_type": "code",
   "execution_count": 2,
   "metadata": {},
   "outputs": [],
   "source": [
    "time_series_path = 'caltech/California_Garage_01/'"
   ]
  },
  {
   "cell_type": "code",
   "execution_count": 3,
   "metadata": {},
   "outputs": [],
   "source": [
    "json_path = 'caltech/acndata_sessions.json'\n",
    "\n",
    "with open(json_path, 'r') as f:\n",
    "    json_data = json.load(f)"
   ]
  },
  {
   "cell_type": "code",
   "execution_count": 20,
   "metadata": {
    "scrolled": true
   },
   "outputs": [
    {
     "data": {
      "text/plain": [
       "{'_id': '5c412c1df9af8b12cb56c281',\n",
       " 'clusterID': '0039',\n",
       " 'connectionTime': 'Tue, 01 Jan 2019 21:08:49 GMT',\n",
       " 'disconnectTime': 'Tue, 01 Jan 2019 22:52:39 GMT',\n",
       " 'doneChargingTime': 'Tue, 01 Jan 2019 22:17:15 GMT',\n",
       " 'kWhDelivered': 2.917,\n",
       " 'sessionID': '2_39_139_28_2019-01-01 21:08:49.264929',\n",
       " 'siteID': '0002',\n",
       " 'spaceID': 'CA-303',\n",
       " 'stationID': '2-39-139-28',\n",
       " 'timezone': 'America/Los_Angeles',\n",
       " 'userID': '000000838',\n",
       " 'userInputs': [{'WhPerMile': 433,\n",
       "   'kWhRequested': 25.98,\n",
       "   'milesRequested': 60,\n",
       "   'minutesAvailable': 277,\n",
       "   'modifiedAt': 'Tue, 01 Jan 2019 21:08:55 GMT',\n",
       "   'paymentRequired': True,\n",
       "   'requestedDeparture': 'Wed, 02 Jan 2019 01:45:49 GMT',\n",
       "   'userID': 838}]}"
      ]
     },
     "execution_count": 20,
     "metadata": {},
     "output_type": "execute_result"
    }
   ],
   "source": [
    "json_data['_items'][1]"
   ]
  },
  {
   "cell_type": "code",
   "execution_count": 5,
   "metadata": {
    "scrolled": false
   },
   "outputs": [],
   "source": [
    "X = []\n",
    "Y = []\n",
    "\n",
    "for session in json_data['_items']:\n",
    "    time_series_file = session['sessionID'].replace(\"_\", \"-\" )\n",
    "    time_series_file = time_series_file.replace(\":\", \"-\" )\n",
    "    time_series_file = time_series_file.replace(\".\", \"-\" )\n",
    "    time_series_file = time_series_file.replace(\" \", \"T\" )\n",
    "    \n",
    "    try:\n",
    "        kWhRequested = session['userInputs'][0]['kWhRequested']\n",
    "        minutesAvailable = session['userInputs'][0]['minutesAvailable']\n",
    "        modifiedAt = session['userInputs'][0]['modifiedAt']\n",
    "\n",
    "        modifiedAt = datetime.strptime(modifiedAt[-12:-4], '%H:%M:%S')\n",
    "        arrival = modifiedAt\n",
    "        modifiedstart = arrival.replace(hour=0, minute=0, second=0)\n",
    "        modifiedAt = abs(modifiedAt - modifiedstart).total_seconds() / 3600.0\n",
    "        \n",
    "        milesRequested = session['userInputs'][0]['milesRequested']\n",
    "        WhPerMile = session['userInputs'][0]['WhPerMile']\n",
    "        userID = session['userInputs'][0]['userID']\n",
    "        \n",
    "        kWhDelivered = session['kWhDelivered']\n",
    "        disconnectTime = datetime.strptime(session['disconnectTime'][-12:-4], '%H:%M:%S')\n",
    "        connectionTime = datetime.strptime(session['connectionTime'][-12:-4], '%H:%M:%S')\n",
    "        minutesStayed = (disconnectTime - connectionTime).total_seconds() / 60.0\n",
    "        if minutesStayed <0:\n",
    "            minutesStayed += 60.0 * 24\n",
    "\n",
    "        time_series_session = pd.read_csv(time_series_path + time_series_file + '.csv.gz', compression='gzip',\n",
    "                   error_bad_lines=False)\n",
    "            \n",
    "        Y.append([kWhRequested, kWhDelivered, minutesAvailable, minutesStayed, modifiedAt, milesRequested, WhPerMile, userID])\n",
    "        X.append(time_series_session)\n",
    "        \n",
    "    except:\n",
    "        continue"
   ]
  },
  {
   "cell_type": "code",
   "execution_count": 6,
   "metadata": {},
   "outputs": [],
   "source": [
    "import numpy as np\n",
    "import pickle\n",
    "from sklearn.preprocessing import StandardScaler\n",
    "from matrixprofile.distanceProfile import massDistanceProfile"
   ]
  },
  {
   "cell_type": "markdown",
   "metadata": {},
   "source": [
    "## Get Tails from X"
   ]
  },
  {
   "cell_type": "code",
   "execution_count": 7,
   "metadata": {},
   "outputs": [],
   "source": [
    "def get_tails(X,Y):\n",
    "    \n",
    "    \"\"\" \n",
    "    X:= Charging current time-series \n",
    "    Y:= Discrete charging data\n",
    "    \"\"\" \n",
    "    \n",
    "    # Get user ID\n",
    "    ID_list = []\n",
    "    ID_dict = {}\n",
    "    for session in range(len(Y)):\n",
    "        ID_list.append(Y[session][7])\n",
    "    ID_set = set(ID_list)\n",
    "    \n",
    "    for uid in ID_set:\n",
    "        ID_dict[uid] = []\n",
    "    \n",
    "    for session in range(len(Y)):\n",
    "        ID_dict[Y[session][7]].append(session) \n",
    "    \n",
    "    # Consider user with more than 30 sessions\n",
    "    sessions_per_user = 30\n",
    "    selected_ID_list = []\n",
    "    for k,v in ID_dict.items():\n",
    "        if len(v) >= sessions_per_user:\n",
    "            selected_ID_list.append(k)\n",
    "    \n",
    "    # Tail extraction parameters\n",
    "    threshold = 10\n",
    "    upbound = 15\n",
    "    lowbound = 0\n",
    "    duration = 80\n",
    "    \n",
    "    all_tails_list = []\n",
    "    all_labels_list = []\n",
    "    scaler = StandardScaler()\n",
    "    \n",
    "    for uid in selected_ID_list:\n",
    "        \n",
    "        X_subset,Y_subset,bp = make_group(uid,X,Y,ID_dict)\n",
    "        df = pd.concat(X_subset)\n",
    "        scaled_current =  scaler.fit_transform(df['Charging Current (A)'].to_numpy().reshape(-1, 1))\n",
    "        # Get a tail template \n",
    "        tail_start,tail_end,tail_template = get_template(df,bp,threshold,upbound,lowbound,duration)\n",
    "        if len(tail_template) < 10:\n",
    "            continue\n",
    "        else:\n",
    "            m = len(tail_template)\n",
    "            distance_profiles = massDistanceProfile(tail_template, 0, m, scaled_current.ravel())\n",
    "            selected_pos, selected_id = choose_best_by_group(bp,distance_profiles)\n",
    "            selected_pos_strict = [i for i in selected_pos if distance_profiles[0][i] < threshold]\n",
    "            \n",
    "            for i in range(len(selected_pos)):\n",
    "                tail_pos = selected_pos[i]\n",
    "                if distance_profiles[0][tail_pos] < threshold:\n",
    "                    all_tails_list.append(df['Charging Current (A)'][tail_pos:tail_pos+m].to_numpy())\n",
    "                    all_labels_list.append(Y_subset[selected_id[i]])\n",
    "            \n",
    "        print('Finishing tail extraction for uid ' + str(uid))\n",
    "    \n",
    "    return all_tails_list, all_labels_list"
   ]
  },
  {
   "cell_type": "code",
   "execution_count": 13,
   "metadata": {},
   "outputs": [
    {
     "name": "stderr",
     "output_type": "stream",
     "text": [
      "/Users/tonytiny/anaconda3/envs/neural/lib/python3.6/site-packages/matrixprofile/utils.py:68: RuntimeWarning: invalid value encountered in sqrt\n",
      "  movstd = np.sqrt(segSumSq / m - (segSum/m) ** 2)\n"
     ]
    },
    {
     "name": "stdout",
     "output_type": "stream",
     "text": [
      "Finishing tail extraction for uid 130\n"
     ]
    },
    {
     "name": "stderr",
     "output_type": "stream",
     "text": [
      "/Users/tonytiny/anaconda3/envs/neural/lib/python3.6/site-packages/matrixprofile/utils.py:68: RuntimeWarning: invalid value encountered in sqrt\n",
      "  movstd = np.sqrt(segSumSq / m - (segSum/m) ** 2)\n"
     ]
    },
    {
     "name": "stdout",
     "output_type": "stream",
     "text": [
      "Finishing tail extraction for uid 10\n"
     ]
    },
    {
     "name": "stderr",
     "output_type": "stream",
     "text": [
      "/Users/tonytiny/anaconda3/envs/neural/lib/python3.6/site-packages/matrixprofile/utils.py:68: RuntimeWarning: invalid value encountered in sqrt\n",
      "  movstd = np.sqrt(segSumSq / m - (segSum/m) ** 2)\n"
     ]
    },
    {
     "name": "stdout",
     "output_type": "stream",
     "text": [
      "Finishing tail extraction for uid 140\n"
     ]
    },
    {
     "name": "stderr",
     "output_type": "stream",
     "text": [
      "/Users/tonytiny/anaconda3/envs/neural/lib/python3.6/site-packages/matrixprofile/utils.py:68: RuntimeWarning: invalid value encountered in sqrt\n",
      "  movstd = np.sqrt(segSumSq / m - (segSum/m) ** 2)\n"
     ]
    },
    {
     "name": "stdout",
     "output_type": "stream",
     "text": [
      "Finishing tail extraction for uid 20\n"
     ]
    },
    {
     "name": "stderr",
     "output_type": "stream",
     "text": [
      "/Users/tonytiny/anaconda3/envs/neural/lib/python3.6/site-packages/matrixprofile/utils.py:68: RuntimeWarning: invalid value encountered in sqrt\n",
      "  movstd = np.sqrt(segSumSq / m - (segSum/m) ** 2)\n"
     ]
    },
    {
     "name": "stdout",
     "output_type": "stream",
     "text": [
      "Finishing tail extraction for uid 150\n"
     ]
    },
    {
     "name": "stderr",
     "output_type": "stream",
     "text": [
      "/Users/tonytiny/anaconda3/envs/neural/lib/python3.6/site-packages/matrixprofile/utils.py:68: RuntimeWarning: invalid value encountered in sqrt\n",
      "  movstd = np.sqrt(segSumSq / m - (segSum/m) ** 2)\n"
     ]
    },
    {
     "name": "stdout",
     "output_type": "stream",
     "text": [
      "Finishing tail extraction for uid 30\n",
      "Finishing tail extraction for uid 160\n",
      "Finishing tail extraction for uid 38\n"
     ]
    },
    {
     "name": "stderr",
     "output_type": "stream",
     "text": [
      "/Users/tonytiny/anaconda3/envs/neural/lib/python3.6/site-packages/matrixprofile/utils.py:68: RuntimeWarning: invalid value encountered in sqrt\n",
      "  movstd = np.sqrt(segSumSq / m - (segSum/m) ** 2)\n"
     ]
    },
    {
     "name": "stdout",
     "output_type": "stream",
     "text": [
      "Finishing tail extraction for uid 40\n"
     ]
    },
    {
     "name": "stderr",
     "output_type": "stream",
     "text": [
      "/Users/tonytiny/anaconda3/envs/neural/lib/python3.6/site-packages/matrixprofile/utils.py:68: RuntimeWarning: invalid value encountered in sqrt\n",
      "  movstd = np.sqrt(segSumSq / m - (segSum/m) ** 2)\n"
     ]
    },
    {
     "name": "stdout",
     "output_type": "stream",
     "text": [
      "Finishing tail extraction for uid 170\n"
     ]
    },
    {
     "name": "stderr",
     "output_type": "stream",
     "text": [
      "/Users/tonytiny/anaconda3/envs/neural/lib/python3.6/site-packages/matrixprofile/utils.py:68: RuntimeWarning: invalid value encountered in sqrt\n",
      "  movstd = np.sqrt(segSumSq / m - (segSum/m) ** 2)\n"
     ]
    },
    {
     "name": "stdout",
     "output_type": "stream",
     "text": [
      "Finishing tail extraction for uid 300\n"
     ]
    },
    {
     "name": "stderr",
     "output_type": "stream",
     "text": [
      "/Users/tonytiny/anaconda3/envs/neural/lib/python3.6/site-packages/matrixprofile/utils.py:68: RuntimeWarning: invalid value encountered in sqrt\n",
      "  movstd = np.sqrt(segSumSq / m - (segSum/m) ** 2)\n"
     ]
    },
    {
     "name": "stdout",
     "output_type": "stream",
     "text": [
      "Finishing tail extraction for uid 50\n"
     ]
    },
    {
     "name": "stderr",
     "output_type": "stream",
     "text": [
      "/Users/tonytiny/anaconda3/envs/neural/lib/python3.6/site-packages/matrixprofile/utils.py:68: RuntimeWarning: invalid value encountered in sqrt\n",
      "  movstd = np.sqrt(segSumSq / m - (segSum/m) ** 2)\n",
      "/Users/tonytiny/anaconda3/envs/neural/lib/python3.6/site-packages/matrixprofile/utils.py:177: RuntimeWarning: divide by zero encountered in true_divide\n",
      "  res = 2*m*(1-(dot-m*mean*q_mean)/(m*std*q_std))\n"
     ]
    },
    {
     "name": "stdout",
     "output_type": "stream",
     "text": [
      "Finishing tail extraction for uid 180\n"
     ]
    },
    {
     "name": "stderr",
     "output_type": "stream",
     "text": [
      "/Users/tonytiny/anaconda3/envs/neural/lib/python3.6/site-packages/matrixprofile/utils.py:68: RuntimeWarning: invalid value encountered in sqrt\n",
      "  movstd = np.sqrt(segSumSq / m - (segSum/m) ** 2)\n"
     ]
    },
    {
     "name": "stdout",
     "output_type": "stream",
     "text": [
      "Finishing tail extraction for uid 60\n"
     ]
    },
    {
     "name": "stderr",
     "output_type": "stream",
     "text": [
      "/Users/tonytiny/anaconda3/envs/neural/lib/python3.6/site-packages/matrixprofile/utils.py:68: RuntimeWarning: invalid value encountered in sqrt\n",
      "  movstd = np.sqrt(segSumSq / m - (segSum/m) ** 2)\n"
     ]
    },
    {
     "name": "stdout",
     "output_type": "stream",
     "text": [
      "Finishing tail extraction for uid 70\n"
     ]
    },
    {
     "name": "stderr",
     "output_type": "stream",
     "text": [
      "/Users/tonytiny/anaconda3/envs/neural/lib/python3.6/site-packages/matrixprofile/utils.py:68: RuntimeWarning: invalid value encountered in sqrt\n",
      "  movstd = np.sqrt(segSumSq / m - (segSum/m) ** 2)\n"
     ]
    },
    {
     "name": "stdout",
     "output_type": "stream",
     "text": [
      "Finishing tail extraction for uid 200\n"
     ]
    },
    {
     "name": "stderr",
     "output_type": "stream",
     "text": [
      "/Users/tonytiny/anaconda3/envs/neural/lib/python3.6/site-packages/matrixprofile/utils.py:68: RuntimeWarning: invalid value encountered in sqrt\n",
      "  movstd = np.sqrt(segSumSq / m - (segSum/m) ** 2)\n",
      "/Users/tonytiny/anaconda3/envs/neural/lib/python3.6/site-packages/matrixprofile/utils.py:177: RuntimeWarning: divide by zero encountered in true_divide\n",
      "  res = 2*m*(1-(dot-m*mean*q_mean)/(m*std*q_std))\n"
     ]
    },
    {
     "name": "stdout",
     "output_type": "stream",
     "text": [
      "Finishing tail extraction for uid 80\n"
     ]
    },
    {
     "name": "stderr",
     "output_type": "stream",
     "text": [
      "/Users/tonytiny/anaconda3/envs/neural/lib/python3.6/site-packages/matrixprofile/utils.py:68: RuntimeWarning: invalid value encountered in sqrt\n",
      "  movstd = np.sqrt(segSumSq / m - (segSum/m) ** 2)\n"
     ]
    },
    {
     "name": "stdout",
     "output_type": "stream",
     "text": [
      "Finishing tail extraction for uid 90\n"
     ]
    },
    {
     "name": "stderr",
     "output_type": "stream",
     "text": [
      "/Users/tonytiny/anaconda3/envs/neural/lib/python3.6/site-packages/matrixprofile/utils.py:68: RuntimeWarning: invalid value encountered in sqrt\n",
      "  movstd = np.sqrt(segSumSq / m - (segSum/m) ** 2)\n"
     ]
    },
    {
     "name": "stdout",
     "output_type": "stream",
     "text": [
      "Finishing tail extraction for uid 100\n"
     ]
    },
    {
     "name": "stderr",
     "output_type": "stream",
     "text": [
      "/Users/tonytiny/anaconda3/envs/neural/lib/python3.6/site-packages/matrixprofile/utils.py:68: RuntimeWarning: invalid value encountered in sqrt\n",
      "  movstd = np.sqrt(segSumSq / m - (segSum/m) ** 2)\n",
      "/Users/tonytiny/anaconda3/envs/neural/lib/python3.6/site-packages/matrixprofile/utils.py:177: RuntimeWarning: divide by zero encountered in true_divide\n",
      "  res = 2*m*(1-(dot-m*mean*q_mean)/(m*std*q_std))\n"
     ]
    },
    {
     "name": "stdout",
     "output_type": "stream",
     "text": [
      "Finishing tail extraction for uid 110\n"
     ]
    },
    {
     "name": "stderr",
     "output_type": "stream",
     "text": [
      "/Users/tonytiny/anaconda3/envs/neural/lib/python3.6/site-packages/matrixprofile/utils.py:68: RuntimeWarning: invalid value encountered in sqrt\n",
      "  movstd = np.sqrt(segSumSq / m - (segSum/m) ** 2)\n"
     ]
    },
    {
     "name": "stdout",
     "output_type": "stream",
     "text": [
      "Finishing tail extraction for uid 240\n"
     ]
    },
    {
     "name": "stderr",
     "output_type": "stream",
     "text": [
      "/Users/tonytiny/anaconda3/envs/neural/lib/python3.6/site-packages/matrixprofile/utils.py:68: RuntimeWarning: invalid value encountered in sqrt\n",
      "  movstd = np.sqrt(segSumSq / m - (segSum/m) ** 2)\n"
     ]
    },
    {
     "name": "stdout",
     "output_type": "stream",
     "text": [
      "Finishing tail extraction for uid 120\n"
     ]
    },
    {
     "name": "stderr",
     "output_type": "stream",
     "text": [
      "/Users/tonytiny/anaconda3/envs/neural/lib/python3.6/site-packages/matrixprofile/utils.py:68: RuntimeWarning: invalid value encountered in sqrt\n",
      "  movstd = np.sqrt(segSumSq / m - (segSum/m) ** 2)\n"
     ]
    },
    {
     "name": "stdout",
     "output_type": "stream",
     "text": [
      "Finishing tail extraction for uid 250\n"
     ]
    }
   ],
   "source": [
    "all_tails_list, all_labels_list = get_tails(X,Y)"
   ]
  },
  {
   "cell_type": "code",
   "execution_count": 25,
   "metadata": {},
   "outputs": [
    {
     "ename": "NameError",
     "evalue": "name 'ID_dict' is not defined",
     "output_type": "error",
     "traceback": [
      "\u001b[0;31m---------------------------------------------------------------------------\u001b[0m",
      "\u001b[0;31mNameError\u001b[0m                                 Traceback (most recent call last)",
      "\u001b[0;32m<ipython-input-25-c0b2888ea8a2>\u001b[0m in \u001b[0;36m<module>\u001b[0;34m\u001b[0m\n\u001b[0;32m----> 1\u001b[0;31m \u001b[0mID_dict\u001b[0m\u001b[0;34m\u001b[0m\u001b[0;34m\u001b[0m\u001b[0m\n\u001b[0m",
      "\u001b[0;31mNameError\u001b[0m: name 'ID_dict' is not defined"
     ]
    }
   ],
   "source": [
    "ID_dict"
   ]
  },
  {
   "cell_type": "code",
   "execution_count": 24,
   "metadata": {
    "scrolled": true
   },
   "outputs": [
    {
     "data": {
      "image/png": "[encoded data removed]",
      "text/plain": [
       "<Figure size 432x288 with 1 Axes>"
      ]
     },
     "metadata": {
      "needs_background": "light"
     },
     "output_type": "display_data"
    }
   ],
   "source": [
    "for tail in range(1000,1058):\n",
    "    plt.plot(all_tails_list[tail])"
   ]
  },
  {
   "cell_type": "code",
   "execution_count": 8,
   "metadata": {},
   "outputs": [],
   "source": [
    "def make_group(groupid,combined_df,discrete_data,users_dict):\n",
    "    '''\n",
    "    Group the time series with the same id into a single time series\n",
    "    If resampled is true, then each time series will be resampled with a\n",
    "    a same frequency before grouping (otherwise many redundant samples)\n",
    "    \n",
    "    The total number of series is len(list_of_bp)-1\n",
    "    '''\n",
    "    list_of_dfs = []\n",
    "    list_of_bp = [0]\n",
    "    list_of_discrete_data = []\n",
    "    ts_len = 0\n",
    "    for i in users_dict[groupid]:\n",
    "        tmp = combined_df[i]\n",
    "        list_of_dfs.append(tmp)\n",
    "        ts_len += len(tmp.index)\n",
    "        list_of_bp.append(ts_len)\n",
    "        list_of_discrete_data.append(discrete_data[i])\n",
    "        \n",
    "    return list_of_dfs,list_of_discrete_data,list_of_bp"
   ]
  },
  {
   "cell_type": "code",
   "execution_count": 9,
   "metadata": {},
   "outputs": [],
   "source": [
    "def choose_best_by_group(bp, distance_profiles):\n",
    "    \n",
    "    n = len(bp)-1\n",
    "    indices = range(len(distance_profiles[0]))\n",
    "    groups = [[] for i in range(n)]\n",
    "    for idx in indices:\n",
    "        tmp = [i for i, x in enumerate(bp[1:]) if idx<= x]\n",
    "        groups[tmp[0]].append(idx)\n",
    "        \n",
    "    selected_pos = []\n",
    "    selected_id = []\n",
    "    for group_id in range(len(groups)):\n",
    "        tmp_id = 0\n",
    "        tmp_v = np.inf\n",
    "        if len(groups[group_id]) > 0:\n",
    "            for id in groups[group_id]:\n",
    "                if distance_profiles[0][id] < tmp_v:\n",
    "                    tmp_id = id\n",
    "                    tmp_v = distance_profiles[0][id]\n",
    "            selected_pos.append(tmp_id)\n",
    "            selected_id.append(group_id)\n",
    "            \n",
    "    return selected_pos, selected_id"
   ]
  },
  {
   "cell_type": "code",
   "execution_count": 10,
   "metadata": {},
   "outputs": [],
   "source": [
    "def choose_best(distance_profiles):\n",
    "    tmp_v = np.inf\n",
    "    for id in range(len(distance_profiles)):\n",
    "        if distance_profiles[0][id] < tmp_v:\n",
    "            tmp_id = id\n",
    "            tmp_v = distance_profiles[0][id]\n",
    "    if tmp_v < np.inf:\n",
    "        if_valid = 1\n",
    "    else:\n",
    "        if_valid = 0\n",
    "        tmp_id = 0\n",
    "    return tmp_id, if_valid"
   ]
  },
  {
   "cell_type": "code",
   "execution_count": 11,
   "metadata": {},
   "outputs": [],
   "source": [
    "def extract_by_val(current_list,up=15,low=0):\n",
    "    '''\n",
    "    Extract the tails by specified values.\n",
    "    :param current_list: a pd.Series of current readings with timestamp as index\n",
    "    :param up: upper bound value\n",
    "    :param low: lower bound value\n",
    "    :return: an extracted current_list\n",
    "    TODO: improve the function to be noise-robust\n",
    "    Example:\n",
    "        extract_by_val(current_list_jpl[34])\n",
    "    '''\n",
    "    tmp = [i for i, v in enumerate(list(current_list)) if v > up]\n",
    "    if len(tmp) > 0:\n",
    "        start_loc = tmp[-1]\n",
    "    else:\n",
    "        return 0,0\n",
    "    tmp = [i for i, v in enumerate(list(current_list)) if (v <= low and i > start_loc)]\n",
    "    if len(tmp)> 0:\n",
    "        end_loc = tmp[0]\n",
    "    else:\n",
    "        return 0,0\n",
    "    return start_loc,end_loc"
   ]
  },
  {
   "cell_type": "code",
   "execution_count": 12,
   "metadata": {},
   "outputs": [],
   "source": [
    "def get_template(df,bp,threshold,upbound,lowbound=0,duration = 80,method='first'):\n",
    "    # z-norm the whole current series\n",
    "    scaler = StandardScaler()\n",
    "    scaled_current =  scaler.fit_transform(df['Charging Current (A)'].to_numpy().reshape(-1, 1))\n",
    "    # find the first valid tails\n",
    "    tail_start = 0\n",
    "    tail_end = 0\n",
    "    if method =='first':\n",
    "        i = 0\n",
    "        while (tail_start == tail_end or (tail_end-tail_start)<duration) and i < (len(bp)-1):\n",
    "            tail_start, tail_end = extract_by_val(df['Charging Current (A)'][bp[i]:bp[i+1]], upbound, lowbound)\n",
    "            tail_start += bp[i]\n",
    "            tail_end += bp[i]\n",
    "            i += 1\n",
    "        if i == (len(bp)-1):\n",
    "            print(\"fails! no tail found\")\n",
    "            tail_template = []\n",
    "    tail_template = scaled_current.ravel()[tail_start:tail_end]\n",
    "    return tail_start,tail_end,tail_template"
   ]
  },
  {
   "cell_type": "markdown",
   "metadata": {},
   "source": [
    "## Save Data"
   ]
  },
  {
   "cell_type": "code",
   "execution_count": 14,
   "metadata": {},
   "outputs": [
    {
     "data": {
      "text/plain": [
       "' \\nX:= Charging current time-series \\nY:= Discrete charging data\\n'"
      ]
     },
     "execution_count": 14,
     "metadata": {},
     "output_type": "execute_result"
    }
   ],
   "source": [
    "charging_data = {}\n",
    "charging_data['X'] = all_tails_list\n",
    "charging_data['Y'] = all_labels_list\n",
    "\n",
    "\"\"\" \n",
    "X:= Charging current time-series \n",
    "Y:= Discrete charging data\n",
    "\"\"\" "
   ]
  },
  {
   "cell_type": "code",
   "execution_count": 16,
   "metadata": {},
   "outputs": [],
   "source": [
    "# write python dict to a file\n",
    "output = open('charging_data.pkl', 'wb')\n",
    "pickle.dump(charging_data, output)\n",
    "output.close()"
   ]
  },
  {
   "cell_type": "code",
   "execution_count": null,
   "metadata": {},
   "outputs": [],
   "source": [
    "# read python dict back from the file\n",
    "pkl_file = open('charging_data.pkl', 'rb')\n",
    "output = pickle.load(pkl_file)\n",
    "pkl_file.close()"
   ]
  },
  {
   "cell_type": "code",
   "execution_count": null,
   "metadata": {},
   "outputs": [],
   "source": []
  }
 ],
 "metadata": {
  "kernelspec": {
   "display_name": "Python 3",
   "language": "python",
   "name": "python3"
  },
  "language_info": {
   "codemirror_mode": {
    "name": "ipython",
    "version": 3
   },
   "file_extension": ".py",
   "mimetype": "text/x-python",
   "name": "python",
   "nbconvert_exporter": "python",
   "pygments_lexer": "ipython3",
   "version": "3.6.13"
  }
 },
 "nbformat": 4,
 "nbformat_minor": 2
}
