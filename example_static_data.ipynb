{
 "cells": [
  {
   "cell_type": "code",
   "execution_count": 166,
   "metadata": {},
   "outputs": [],
   "source": [
    "import pandas as pd\n",
    "import json\n",
    "from datetime import datetime\n",
    "import datetime import time"
   ]
  },
  {
   "cell_type": "code",
   "execution_count": 167,
   "metadata": {},
   "outputs": [],
   "source": [
    "time_series_path = 'caltech/California_Garage_01/'"
   ]
  },
  {
   "cell_type": "code",
   "execution_count": 168,
   "metadata": {},
   "outputs": [],
   "source": [
    "json_path = 'caltech/acndata_sessions.json'\n",
    "\n",
    "with open(json_path, 'r') as f:\n",
    "    json_data = json.load(f)"
   ]
  },
  {
   "cell_type": "code",
   "execution_count": 24,
   "metadata": {
    "scrolled": true
   },
   "outputs": [
    {
     "data": {
      "text/plain": [
       "{'_id': '5c412c1df9af8b12cb56c281',\n",
       " 'clusterID': '0039',\n",
       " 'connectionTime': 'Tue, 01 Jan 2019 21:08:49 GMT',\n",
       " 'disconnectTime': 'Tue, 01 Jan 2019 22:52:39 GMT',\n",
       " 'doneChargingTime': 'Tue, 01 Jan 2019 22:17:15 GMT',\n",
       " 'kWhDelivered': 2.917,\n",
       " 'sessionID': '2_39_139_28_2019-01-01 21:08:49.264929',\n",
       " 'siteID': '0002',\n",
       " 'spaceID': 'CA-303',\n",
       " 'stationID': '2-39-139-28',\n",
       " 'timezone': 'America/Los_Angeles',\n",
       " 'userID': '000000838',\n",
       " 'userInputs': [{'WhPerMile': 433,\n",
       "   'kWhRequested': 25.98,\n",
       "   'milesRequested': 60,\n",
       "   'minutesAvailable': 277,\n",
       "   'modifiedAt': 'Tue, 01 Jan 2019 21:08:55 GMT',\n",
       "   'paymentRequired': True,\n",
       "   'requestedDeparture': 'Wed, 02 Jan 2019 01:45:49 GMT',\n",
       "   'userID': 838}]}"
      ]
     },
     "execution_count": 24,
     "metadata": {},
     "output_type": "execute_result"
    }
   ],
   "source": [
    "json_data['_items'][1]"
   ]
  },
  {
   "cell_type": "code",
   "execution_count": 169,
   "metadata": {},
   "outputs": [
    {
     "data": {
      "text/plain": [
       "{'WhPerMile': 400,\n",
       " 'kWhRequested': 20.0,\n",
       " 'milesRequested': 50,\n",
       " 'minutesAvailable': 282,\n",
       " 'modifiedAt': 'Tue, 01 Jan 2019 21:06:08 GMT',\n",
       " 'paymentRequired': True,\n",
       " 'requestedDeparture': 'Wed, 02 Jan 2019 01:47:57 GMT',\n",
       " 'userID': 1135}"
      ]
     },
     "execution_count": 169,
     "metadata": {},
     "output_type": "execute_result"
    }
   ],
   "source": [
    "data['_items'][0]['userInputs'][0]"
   ]
  },
  {
   "cell_type": "code",
   "execution_count": 170,
   "metadata": {
    "scrolled": true
   },
   "outputs": [
    {
     "data": {
      "text/plain": [
       "Index(['Unnamed: 0', 'Charging Current (A)', 'Actual Pilot (A)', 'Voltage (V)',\n",
       "       'Charging State', 'Energy Delivered (kWh)', 'Power (kW)'],\n",
       "      dtype='object')"
      ]
     },
     "execution_count": 170,
     "metadata": {},
     "output_type": "execute_result"
    }
   ],
   "source": [
    "time_series_session.keys()"
   ]
  },
  {
   "cell_type": "code",
   "execution_count": null,
   "metadata": {},
   "outputs": [],
   "source": [
    "X = []\n",
    "Y = []\n",
    "Z = []\n",
    "\n",
    "for session in json_data['_items']:\n",
    "    time_series_file = session['sessionID'].replace(\"_\", \"-\" )\n",
    "    time_series_file = time_series_file.replace(\":\", \"-\" )\n",
    "    time_series_file = time_series_file.replace(\".\", \"-\" )\n",
    "    time_series_file = time_series_file.replace(\" \", \"T\" )\n",
    "    \n",
    "    try:\n",
    "        kWhRequested = session['userInputs'][0]['kWhRequested']\n",
    "        minutesAvailable = session['userInputs'][0]['minutesAvailable']\n",
    "        modifiedAt = session['userInputs'][0]['modifiedAt']\n",
    "\n",
    "        modifiedAt = datetime.strptime(modifiedAt[-12:-4], '%H:%M:%S')\n",
    "        arrival = modifiedAt\n",
    "        modifiedstart = arrival.replace(hour=0, minute=0, second=0)\n",
    "        modifiedAt = abs(modifiedAt - modifiedstart).total_seconds() / 3600.0\n",
    "        print(modifiedAt)\n",
    "        \n",
    "        milesRequested = session['userInputs'][0]['milesRequested']\n",
    "        WhPerMile = session['userInputs'][0]['WhPerMile']\n",
    "        userID = session['userInputs'][0]['userID']\n",
    "\n",
    "        print(time_series_file)\n",
    "        time_series_session = pd.read_csv(time_series_path + time_series_file + '.csv.gz', compression='gzip',\n",
    "                   error_bad_lines=False)\n",
    "            \n",
    "        Y.append([kWhRequested, minutesAvailable, modifiedAt, milesRequested, WhPerMile, userID])\n",
    "        X.append(time_series_session['Charging Current (A)'])\n",
    "        Z.append(time_series_session['Actual Pilot (A)'])\n",
    "        \n",
    "    except:\n",
    "        print(\"An exception occurred\")"
   ]
  },
  {
   "cell_type": "code",
   "execution_count": 172,
   "metadata": {},
   "outputs": [
    {
     "data": {
      "text/plain": [
       "[<matplotlib.lines.Line2D at 0x7f85ccbe7d30>]"
      ]
     },
     "execution_count": 172,
     "metadata": {},
     "output_type": "execute_result"
    },
    {
     "data": {
      "image/png": "[encoded data removed]",
      "text/plain": [
       "<Figure size 432x288 with 1 Axes>"
      ]
     },
     "metadata": {
      "needs_background": "light"
     },
     "output_type": "display_data"
    }
   ],
   "source": [
    "import matplotlib.pyplot as plt\n",
    "\n",
    "plt.plot(Z[300])\n",
    "plt.plot(Z[209])\n",
    "plt.plot(Z[200])"
   ]
  },
  {
   "cell_type": "code",
   "execution_count": 181,
   "metadata": {},
   "outputs": [
    {
     "data": {
      "text/plain": [
       "10673"
      ]
     },
     "execution_count": 181,
     "metadata": {},
     "output_type": "execute_result"
    }
   ],
   "source": [
    "len(Y)"
   ]
  },
  {
   "cell_type": "code",
   "execution_count": 286,
   "metadata": {},
   "outputs": [],
   "source": [
    "import numpy as np\n",
    "import pickle\n",
    "from sklearn.preprocessing import StandardScaler\n",
    "from matrixprofile.distanceProfile import massDistanceProfile"
   ]
  },
  {
   "cell_type": "code",
   "execution_count": 134,
   "metadata": {},
   "outputs": [],
   "source": [
    "charging_data = {}\n",
    "charging_data['X'] = X\n",
    "charging_data['Y'] = Y\n",
    "charging_data['Z'] = Z\n",
    "\n",
    "\"\"\" \n",
    "X:= Charging current time-series \n",
    "Z:= Pilot current time-series\n",
    "Y:= Discrete charging data\n",
    "\"\"\" "
   ]
  },
  {
   "cell_type": "code",
   "execution_count": 135,
   "metadata": {},
   "outputs": [],
   "source": [
    "# write python dict to a file\n",
    "output = open('charging_data.pkl', 'wb')\n",
    "pickle.dump(charging_data, output)\n",
    "output.close()"
   ]
  },
  {
   "cell_type": "code",
   "execution_count": 136,
   "metadata": {},
   "outputs": [],
   "source": [
    "# read python dict back from the file\n",
    "pkl_file = open('charging_data.pkl', 'rb')\n",
    "output = pickle.load(pkl_file)\n",
    "pkl_file.close()"
   ]
  },
  {
   "cell_type": "markdown",
   "metadata": {},
   "source": [
    "## Get Tails from X"
   ]
  },
  {
   "cell_type": "code",
   "execution_count": 332,
   "metadata": {},
   "outputs": [],
   "source": [
    "def get_tails(X,Y):\n",
    "    \n",
    "    \"\"\" \n",
    "    X:= Charging current time-series \n",
    "    Y:= Discrete charging data\n",
    "    \"\"\" \n",
    "    \n",
    "    # Get user ID\n",
    "    ID_list = []\n",
    "    ID_dict = {}\n",
    "    for session in range(len(Y)):\n",
    "        ID_list.append(Y[session][5])\n",
    "    ID_set = set(ID_list)\n",
    "    \n",
    "    for uid in ID_set:\n",
    "        ID_dict[uid] = []\n",
    "    \n",
    "    for session in range(len(Y)):\n",
    "        ID_dict[Y[session][5]].append(session) \n",
    "    \n",
    "    # Consider user with more than 30 sessions\n",
    "    sessions_per_user = 30\n",
    "    selected_ID_list = []\n",
    "    for k,v in ID_dict.items():\n",
    "        if len(v) >= sessions_per_user:\n",
    "            selected_ID_list.append(k)\n",
    "            \n",
    "    print(len(selected_ID_list))\n",
    "    \n",
    "    # Tail extraction parameters\n",
    "    threshold = 10\n",
    "    upbound = 15\n",
    "    lowbound = 0\n",
    "    duration = 80\n",
    "    \n",
    "    all_tails_list = []\n",
    "    scaler = StandardScaler()\n",
    "    \n",
    "    for uid in selected_ID_list:\n",
    "        \n",
    "        df,bp = make_group(uid,X,ID_dict)\n",
    "        scaled_current =  scaler.fit_transform(df[0].to_numpy().reshape(-1, 1))\n",
    "        # Get a tail template \n",
    "        tail_start,tail_end,tail_template = get_template(df[0],bp,threshold,upbound,lowbound,duration)\n",
    "        if tail_template == 0:\n",
    "            continue\n",
    "        else:\n",
    "            m = len(tail_template)\n",
    "            distance_profiles = massDistanceProfile(tail_template, 0, m, scaled_current.ravel())\n",
    "            selected = choose_best(bp,distance_profiles)\n",
    "            selected_strict = [i for i in selected if distance_profiles[0][i] < threshold]\n",
    "\n",
    "        for tail in selected_strict:\n",
    "            all_tails_list.append(tail)\n",
    "    \n",
    "    return all_tails_list"
   ]
  },
  {
   "cell_type": "code",
   "execution_count": 333,
   "metadata": {},
   "outputs": [
    {
     "name": "stdout",
     "output_type": "stream",
     "text": [
      "93\n",
      "fails! no tail found\n"
     ]
    },
    {
     "name": "stderr",
     "output_type": "stream",
     "text": [
      "/Users/tonytiny/anaconda3/envs/neural/lib/python3.6/site-packages/ipykernel_launcher.py:45: DeprecationWarning: The truth value of an empty array is ambiguous. Returning False, but in future this will result in an error. Use `array.size > 0` to check that an array is not empty.\n"
     ]
    },
    {
     "ename": "NameError",
     "evalue": "name 'mass' is not defined",
     "output_type": "error",
     "traceback": [
      "\u001b[0;31m---------------------------------------------------------------------------\u001b[0m",
      "\u001b[0;31mNameError\u001b[0m                                 Traceback (most recent call last)",
      "\u001b[0;32m<ipython-input-333-91c488e9bf37>\u001b[0m in \u001b[0;36m<module>\u001b[0;34m\u001b[0m\n\u001b[0;32m----> 1\u001b[0;31m \u001b[0mall_tails_list\u001b[0m \u001b[0;34m=\u001b[0m \u001b[0mget_tails\u001b[0m\u001b[0;34m(\u001b[0m\u001b[0mX\u001b[0m\u001b[0;34m,\u001b[0m\u001b[0mY\u001b[0m\u001b[0;34m)\u001b[0m\u001b[0;34m\u001b[0m\u001b[0;34m\u001b[0m\u001b[0m\n\u001b[0m",
      "\u001b[0;32m<ipython-input-332-616b57f9155e>\u001b[0m in \u001b[0;36mget_tails\u001b[0;34m(X, Y)\u001b[0m\n\u001b[1;32m     47\u001b[0m         \u001b[0;32melse\u001b[0m\u001b[0;34m:\u001b[0m\u001b[0;34m\u001b[0m\u001b[0;34m\u001b[0m\u001b[0m\n\u001b[1;32m     48\u001b[0m             \u001b[0mm\u001b[0m \u001b[0;34m=\u001b[0m \u001b[0mlen\u001b[0m\u001b[0;34m(\u001b[0m\u001b[0mtail_template\u001b[0m\u001b[0;34m)\u001b[0m\u001b[0;34m\u001b[0m\u001b[0;34m\u001b[0m\u001b[0m\n\u001b[0;32m---> 49\u001b[0;31m             \u001b[0mdistance_profiles\u001b[0m \u001b[0;34m=\u001b[0m \u001b[0mmassDistanceProfile\u001b[0m\u001b[0;34m(\u001b[0m\u001b[0mtail_template\u001b[0m\u001b[0;34m,\u001b[0m \u001b[0;36m0\u001b[0m\u001b[0;34m,\u001b[0m \u001b[0mm\u001b[0m\u001b[0;34m,\u001b[0m \u001b[0mscaled_current\u001b[0m\u001b[0;34m.\u001b[0m\u001b[0mravel\u001b[0m\u001b[0;34m(\u001b[0m\u001b[0;34m)\u001b[0m\u001b[0;34m)\u001b[0m\u001b[0;34m\u001b[0m\u001b[0;34m\u001b[0m\u001b[0m\n\u001b[0m\u001b[1;32m     50\u001b[0m             \u001b[0mselected\u001b[0m \u001b[0;34m=\u001b[0m \u001b[0mchoose_best\u001b[0m\u001b[0;34m(\u001b[0m\u001b[0mbp\u001b[0m\u001b[0;34m,\u001b[0m\u001b[0mdistance_profiles\u001b[0m\u001b[0;34m)\u001b[0m\u001b[0;34m\u001b[0m\u001b[0;34m\u001b[0m\u001b[0m\n\u001b[1;32m     51\u001b[0m             \u001b[0mselected_strict\u001b[0m \u001b[0;34m=\u001b[0m \u001b[0;34m[\u001b[0m\u001b[0mi\u001b[0m \u001b[0;32mfor\u001b[0m \u001b[0mi\u001b[0m \u001b[0;32min\u001b[0m \u001b[0mselected\u001b[0m \u001b[0;32mif\u001b[0m \u001b[0mdistance_profiles\u001b[0m\u001b[0;34m[\u001b[0m\u001b[0;36m0\u001b[0m\u001b[0;34m]\u001b[0m\u001b[0;34m[\u001b[0m\u001b[0mi\u001b[0m\u001b[0;34m]\u001b[0m \u001b[0;34m<\u001b[0m \u001b[0mthreshold\u001b[0m\u001b[0;34m]\u001b[0m\u001b[0;34m\u001b[0m\u001b[0;34m\u001b[0m\u001b[0m\n",
      "\u001b[0;32m~/anaconda3/envs/neural/lib/python3.6/site-packages/matrixprofile/distanceProfile.py\u001b[0m in \u001b[0;36mmassDistanceProfile\u001b[0;34m(tsA, idx, m, tsB)\u001b[0m\n\u001b[1;32m     64\u001b[0m     \u001b[0mquery\u001b[0m \u001b[0;34m=\u001b[0m \u001b[0mtsA\u001b[0m\u001b[0;34m[\u001b[0m\u001b[0midx\u001b[0m\u001b[0;34m:\u001b[0m\u001b[0;34m(\u001b[0m\u001b[0midx\u001b[0m\u001b[0;34m+\u001b[0m\u001b[0mm\u001b[0m\u001b[0;34m)\u001b[0m\u001b[0;34m]\u001b[0m\u001b[0;34m\u001b[0m\u001b[0;34m\u001b[0m\u001b[0m\n\u001b[1;32m     65\u001b[0m     \u001b[0mn\u001b[0m \u001b[0;34m=\u001b[0m \u001b[0mlen\u001b[0m\u001b[0;34m(\u001b[0m\u001b[0mtsB\u001b[0m\u001b[0;34m)\u001b[0m\u001b[0;34m\u001b[0m\u001b[0;34m\u001b[0m\u001b[0m\n\u001b[0;32m---> 66\u001b[0;31m     \u001b[0mdistanceProfile\u001b[0m \u001b[0;34m=\u001b[0m \u001b[0mnp\u001b[0m\u001b[0;34m.\u001b[0m\u001b[0mreal\u001b[0m\u001b[0;34m(\u001b[0m\u001b[0mnp\u001b[0m\u001b[0;34m.\u001b[0m\u001b[0msqrt\u001b[0m\u001b[0;34m(\u001b[0m\u001b[0mmass\u001b[0m\u001b[0;34m(\u001b[0m\u001b[0mquery\u001b[0m\u001b[0;34m,\u001b[0m\u001b[0mtsB\u001b[0m\u001b[0;34m)\u001b[0m\u001b[0;34m.\u001b[0m\u001b[0mastype\u001b[0m\u001b[0;34m(\u001b[0m\u001b[0mcomplex\u001b[0m\u001b[0;34m)\u001b[0m\u001b[0;34m)\u001b[0m\u001b[0;34m)\u001b[0m\u001b[0;34m\u001b[0m\u001b[0;34m\u001b[0m\u001b[0m\n\u001b[0m\u001b[1;32m     67\u001b[0m     \u001b[0;32mif\u001b[0m \u001b[0mselfJoin\u001b[0m\u001b[0;34m:\u001b[0m\u001b[0;34m\u001b[0m\u001b[0;34m\u001b[0m\u001b[0m\n\u001b[1;32m     68\u001b[0m         \u001b[0mtrivialMatchRange\u001b[0m \u001b[0;34m=\u001b[0m \u001b[0;34m(\u001b[0m\u001b[0mint\u001b[0m\u001b[0;34m(\u001b[0m\u001b[0mmax\u001b[0m\u001b[0;34m(\u001b[0m\u001b[0;36m0\u001b[0m\u001b[0;34m,\u001b[0m\u001b[0midx\u001b[0m \u001b[0;34m-\u001b[0m \u001b[0mnp\u001b[0m\u001b[0;34m.\u001b[0m\u001b[0mround\u001b[0m\u001b[0;34m(\u001b[0m\u001b[0mm\u001b[0m\u001b[0;34m/\u001b[0m\u001b[0;36m2\u001b[0m\u001b[0;34m,\u001b[0m\u001b[0;36m0\u001b[0m\u001b[0;34m)\u001b[0m\u001b[0;34m)\u001b[0m\u001b[0;34m)\u001b[0m\u001b[0;34m,\u001b[0m\u001b[0mint\u001b[0m\u001b[0;34m(\u001b[0m\u001b[0mmin\u001b[0m\u001b[0;34m(\u001b[0m\u001b[0midx\u001b[0m \u001b[0;34m+\u001b[0m \u001b[0mnp\u001b[0m\u001b[0;34m.\u001b[0m\u001b[0mround\u001b[0m\u001b[0;34m(\u001b[0m\u001b[0mm\u001b[0m\u001b[0;34m/\u001b[0m\u001b[0;36m2\u001b[0m\u001b[0;34m+\u001b[0m\u001b[0;36m1\u001b[0m\u001b[0;34m,\u001b[0m\u001b[0;36m0\u001b[0m\u001b[0;34m)\u001b[0m\u001b[0;34m,\u001b[0m\u001b[0mn\u001b[0m\u001b[0;34m)\u001b[0m\u001b[0;34m)\u001b[0m\u001b[0;34m)\u001b[0m\u001b[0;34m\u001b[0m\u001b[0;34m\u001b[0m\u001b[0m\n",
      "\u001b[0;31mNameError\u001b[0m: name 'mass' is not defined"
     ]
    }
   ],
   "source": [
    "all_tails_list = get_tails(X,Y)"
   ]
  },
  {
   "cell_type": "code",
   "execution_count": 325,
   "metadata": {},
   "outputs": [
    {
     "data": {
      "text/plain": [
       "0       0.0\n",
       "1       0.4\n",
       "2       5.0\n",
       "3       8.2\n",
       "4       8.1\n",
       "       ... \n",
       "4623    0.0\n",
       "4624    0.0\n",
       "4625    0.0\n",
       "4626    0.0\n",
       "4627    0.0\n",
       "Name: Charging Current (A), Length: 4628, dtype: float64"
      ]
     },
     "execution_count": 325,
     "metadata": {},
     "output_type": "execute_result"
    }
   ],
   "source": [
    "X[0]"
   ]
  },
  {
   "cell_type": "code",
   "execution_count": 204,
   "metadata": {},
   "outputs": [],
   "source": [
    "def make_group(groupid,combined_df,users_dict):\n",
    "    '''\n",
    "    Group the time series with the same id into a single time series\n",
    "    If resampled is true, then each time series will be resampled with a\n",
    "    a same frequency before grouping (otherwise many redundant samples)\n",
    "    \n",
    "    The total number of series is len(list_of_bp)-1\n",
    "    '''\n",
    "    list_of_dfs = []\n",
    "    list_of_bp = [0]\n",
    "    num_row = 0\n",
    "    for i in users_dict[groupid]:\n",
    "        tmp = combined_df[i]\n",
    "        list_of_dfs.append(tmp)\n",
    "        num_row += len(tmp.index)\n",
    "        list_of_bp.append(num_row)\n",
    "    df = pd.concat(list_of_dfs)\n",
    "    return df,list_of_bp"
   ]
  },
  {
   "cell_type": "code",
   "execution_count": 205,
   "metadata": {},
   "outputs": [],
   "source": [
    "def choose_best(bp,distance_profiles):\n",
    "    n = len(bp)-1\n",
    "    indices = range(len(distance_profiles[0]))\n",
    "    groups = [[] for i in range(n)]\n",
    "    for idx in indices:\n",
    "        tmp = [i for i, x in enumerate(bp[1:]) if idx<= x]\n",
    "        groups[tmp[0]].append(idx)\n",
    "    selected = []\n",
    "    for group in groups:\n",
    "        tmp_id = 0\n",
    "        tmp_v = np.inf\n",
    "        if len(group) > 0:\n",
    "            for id in group:\n",
    "                if distance_profiles[0][id] < tmp_v:\n",
    "                    tmp_id = id\n",
    "                    tmp_v = distance_profiles[0][id]\n",
    "            selected.append(tmp_id)\n",
    "    return selected"
   ]
  },
  {
   "cell_type": "code",
   "execution_count": 206,
   "metadata": {},
   "outputs": [],
   "source": [
    "def extract_by_val(current_list,up=15,low=0):\n",
    "    '''\n",
    "    Extract the tails by specified values.\n",
    "    :param current_list: a pd.Series of current readings with timestamp as index\n",
    "    :param up: upper bound value\n",
    "    :param low: lower bound value\n",
    "    :return: an extracted current_list\n",
    "    TODO: improve the function to be noise-robust\n",
    "    Example:\n",
    "        extract_by_val(current_list_jpl[34])\n",
    "    '''\n",
    "    tmp = [i for i, v in enumerate(list(current_list)) if v > up]\n",
    "    if len(tmp) > 0:\n",
    "        start_loc = tmp[-1]\n",
    "    else:\n",
    "        return 0,0\n",
    "    tmp = [i for i, v in enumerate(list(current_list)) if (v <= low and i > start_loc)]\n",
    "    if len(tmp)> 0:\n",
    "        end_loc = tmp[0]\n",
    "    else:\n",
    "        return 0,0\n",
    "    return start_loc,end_loc"
   ]
  },
  {
   "cell_type": "code",
   "execution_count": 304,
   "metadata": {},
   "outputs": [],
   "source": [
    "def get_template(df,bp,threshold,upbound,lowbound=0,duration = 80,method='first'):\n",
    "    # z-norm the whole current series\n",
    "    scaler = StandardScaler()\n",
    "    scaled_current =  scaler.fit_transform(df[0].to_numpy().reshape(-1, 1))\n",
    "    # find the first valid tails\n",
    "    tail_start = 0\n",
    "    tail_end = 0\n",
    "    if method =='first':\n",
    "        i = 0\n",
    "        while (tail_start == tail_end or (tail_end-tail_start)<duration) and i < (len(bp)-1):\n",
    "            tail_start, tail_end = extract_by_val(df[0][bp[i]:bp[i+1]], upbound, lowbound)\n",
    "            tail_start += bp[i]\n",
    "            tail_end += bp[i]\n",
    "            i += 1\n",
    "        if i == (len(bp)-1):\n",
    "            print(\"fails! no tail found\")\n",
    "            tail_template = 0\n",
    "    tail_template = scaled_current.ravel()[tail_start:tail_end]\n",
    "    return tail_start,tail_end,tail_template"
   ]
  },
  {
   "cell_type": "code",
   "execution_count": null,
   "metadata": {},
   "outputs": [],
   "source": []
  }
 ],
 "metadata": {
  "kernelspec": {
   "display_name": "Python 3",
   "language": "python",
   "name": "python3"
  },
  "language_info": {
   "codemirror_mode": {
    "name": "ipython",
    "version": 3
   },
   "file_extension": ".py",
   "mimetype": "text/x-python",
   "name": "python",
   "nbconvert_exporter": "python",
   "pygments_lexer": "ipython3",
   "version": "3.6.13"
  }
 },
 "nbformat": 4,
 "nbformat_minor": 2
}
